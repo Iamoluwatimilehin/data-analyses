{
 "cells": [
  {
   "cell_type": "code",
   "execution_count": 1,
   "id": "5a401b48",
   "metadata": {},
   "outputs": [],
   "source": [
    "class Contact:\n",
    "    def __init__(self, name, phone):\n",
    "        self.name = name\n",
    "        self.phone = phone\n",
    "        "
   ]
  },
  {
   "cell_type": "code",
   "execution_count": 2,
   "id": "fc8c87e9",
   "metadata": {},
   "outputs": [],
   "source": [
    "class DigitalDiary:\n",
    "    def __init__(self):\n",
    "        self.contacts = []\n",
    "        \n",
    "        "
   ]
  },
  {
   "cell_type": "code",
   "execution_count": 3,
   "id": "c95be664",
   "metadata": {},
   "outputs": [],
   "source": [
    "def add_contact(self, name, phone):\n",
    "        contact = Contact(name, phone)\n",
    "        self.contacts.append(contact)\n",
    "        print(f\"Contact {name} with phone number {phone} added successfully.\")"
   ]
  },
  {
   "cell_type": "code",
   "execution_count": null,
   "id": "2ad2b92c",
   "metadata": {},
   "outputs": [],
   "source": [
    " def view_contacts(self):\n",
    "        if self.contacts:\n",
    "            print(\"Contacts:\")\n",
    "            for contact in self.contacts:\n",
    "                print(f\"Name: {contact.name}, Phone: {contact.phone}\")\n",
    "        else:\n",
    "            print(\"No contacts found.\")"
   ]
  }
 ],
 "metadata": {
  "kernelspec": {
   "display_name": "Python 3 (ipykernel)",
   "language": "python",
   "name": "python3"
  },
  "language_info": {
   "codemirror_mode": {
    "name": "ipython",
    "version": 3
   },
   "file_extension": ".py",
   "mimetype": "text/x-python",
   "name": "python",
   "nbconvert_exporter": "python",
   "pygments_lexer": "ipython3",
   "version": "3.11.5"
  }
 },
 "nbformat": 4,
 "nbformat_minor": 5
}
